{
 "cells": [
  {
   "cell_type": "code",
   "execution_count": 8,
   "metadata": {},
   "outputs": [
    {
     "name": "stdout",
     "output_type": "stream",
     "text": [
      "torch.Size([1, 3, 3, 2]) tensor([[[[ 0.0000,  0.0000],\n",
      "          [ 1.2818,  3.5853],\n",
      "          [ 0.7203,  1.6506]],\n",
      "\n",
      "         [[-1.2818, -3.5853],\n",
      "          [ 0.0000,  0.0000],\n",
      "          [-0.5616, -1.9347]],\n",
      "\n",
      "         [[-0.7203, -1.6506],\n",
      "          [ 0.5616,  1.9347],\n",
      "          [ 0.0000,  0.0000]]]])\n",
      "tensor([[[-0.2038,  2.7274],\n",
      "         [-1.4856, -0.8579],\n",
      "         [-0.9240,  1.0768]]])\n",
      "tensor([[1.2818, 3.5853]])\n"
     ]
    }
   ],
   "source": [
    "import torch\n",
    "\n",
    "a = torch.randn(1, 3, 2)\n",
    "\n",
    "diffs = a.unsqueeze(2) - a \n",
    "\n",
    "print(diffs.shape, diffs)\n",
    "\n",
    "print(a)\n",
    "\n",
    "print(a[:, 0, :] - a[:, 1, :])"
   ]
  },
  {
   "cell_type": "code",
   "execution_count": 28,
   "metadata": {},
   "outputs": [
    {
     "name": "stdout",
     "output_type": "stream",
     "text": [
      "torch.Size([32, 1024, 32])\n"
     ]
    }
   ],
   "source": [
    "import torch\n",
    "import torch.nn as nn\n",
    "import torch.nn.functional as F\n",
    "from einops.layers.torch import Reduce\n",
    "from pytorch3d.ops import knn_points\n",
    "\n",
    "\n",
    "#ARPE: Absolute Relative Position Encoding\n",
    "class ARPE(nn.Module):\n",
    "    def __init__(self, in_channels=3, out_channels=32, npoints=1024):\n",
    "        super(ARPE, self).__init__()\n",
    "\n",
    "        N0 = 512\n",
    "        k0 = 32\n",
    "        #self.k = int(k0 * npoints / N0)\n",
    "        self.k = 3\n",
    "\n",
    "\n",
    "        self.lin1 = nn.Linear(2*in_channels, 2*in_channels)\n",
    "        self.lin2 = nn.Linear(2*in_channels, out_channels)\n",
    "\n",
    "        self.bn1 = nn.BatchNorm1d(2*in_channels)\n",
    "        self.bn2 = nn.BatchNorm1d(out_channels)\n",
    "\n",
    "        self.max_pooling_layer = Reduce('bn k f -> bn 1 f', 'max')\n",
    "     \n",
    "    def forward(self, x):\n",
    "    \n",
    "        B, N, C = x.shape  # B: batch size, N: number of points, C: channels\n",
    "\n",
    "        knn = knn_points(x, x, K=self.k, return_nn=True)[2] # B, N, K, C\n",
    "\n",
    "        diffs = x.unsqueeze(2) - knn  # B, N, K, C\n",
    "\n",
    "        x = torch.cat([x.unsqueeze(2).repeat(1, 1, self.k, 1), diffs], dim=-1) # B, N, K, 2*C\n",
    "        x = F.elu(self.bn1(self.lin1(x.view(B*N, self.k, 2*C)).transpose(1,2)).transpose(1,2)) # B*N, K, 2*C\n",
    "        x = self.max_pooling_layer(x).squeeze(2) # B*N, 1, 2*C -> B*N, 2*C\n",
    "        x = F.elu(self.bn2(self.lin2(x.view(B, N, 2*C)).transpose(1,2)).transpose(1,2)) # B, N, out_channels\n",
    "\n",
    "        return x # B, N, 2*C\n",
    "\n",
    "\n",
    "\n",
    "x = torch.randn(32, 1024, 3)\n",
    "arpe = ARPE()\n",
    "y = arpe(x)\n",
    "print(y.shape)"
   ]
  },
  {
   "cell_type": "code",
   "execution_count": 29,
   "metadata": {},
   "outputs": [],
   "source": [
    "test1 = torch.Tensor([[[0,1,0],[1,1,0],[5,4,2],[1,-1,0],[5,4,5]]])\n",
    "\n",
    "#print(test1.shape, test1)\n",
    "\n",
    "res1 = arpe(test1)\n",
    "\n",
    "#print(res1.shape, res1)"
   ]
  },
  {
   "cell_type": "code",
   "execution_count": 34,
   "metadata": {},
   "outputs": [
    {
     "name": "stdout",
     "output_type": "stream",
     "text": [
      "tensor([[[ 0.,  1.,  2.,  3.,  4.,  5.],\n",
      "         [10., 11., 12., 13., 14., 15.]]]) \n",
      " tensor([[[ 0.,  2.,  4.,  1.,  3.,  5.],\n",
      "         [10., 12., 14., 11., 13., 15.]]])\n"
     ]
    }
   ],
   "source": [
    "def channel_shuffle(x, groups):\n",
    "    B, N, C = x.shape\n",
    "    x = x.reshape(B,N,C//groups,groups).permute(0,1,3,2).reshape(B,N,C)\n",
    "    return x\n",
    "\n",
    "x = torch.Tensor([[[0,1,2,3,4,5],[10,11,12,13,14,15]]])\n",
    "print(x, \"\\n\",channel_shuffle(x, 2))"
   ]
  },
  {
   "cell_type": "code",
   "execution_count": 37,
   "metadata": {},
   "outputs": [
    {
     "name": "stdout",
     "output_type": "stream",
     "text": [
      "torch.Size([32, 1024, 64])\n"
     ]
    }
   ],
   "source": [
    "class GSA(nn.Module):\n",
    "    def __init__(self, channels = 64, groups=1) -> None:\n",
    "        super(GSA, self).__init__()\n",
    "\n",
    "        self.channels = channels\n",
    "        self.groups = groups\n",
    "        assert self.channels % self.groups == 0, \"C must be divisible by groups\"\n",
    "        self.cg = self.channels // self.groups\n",
    "        self.linears = [nn.Linear(self.cg, self.cg) for _ in range(self.groups)]\n",
    "        self.gn = nn.GroupNorm(self.groups, self.channels)\n",
    "\n",
    "    def forward(self, x):\n",
    "\n",
    "        B, N, C = x.shape\n",
    "\n",
    "        xin = x # B, N, C\n",
    "\n",
    "        #grouped_x = x.reshape(B, N, C//self.groups, self.groups) # B, N, C//groups, groups\n",
    "\n",
    "        #Si può vettorizzare?\n",
    "        x_g =[]\n",
    "        for i in range(self.groups):\n",
    "            x = self.linears[i](xin[:,:,i*self.cg:(i+1)*self.cg]) # B, N, C//groups\n",
    "            x = F.scaled_dot_product_attention(x,x,F.elu(x))\n",
    "            x_g.append(x)\n",
    "        x = torch.cat(x_g, dim=-1) # B, N, C\n",
    "\n",
    "        x = self.gn((channel_shuffle(x, self.groups) + xin).transpose(1,2)).transpose(1,2) # B, N, C\n",
    "\n",
    "        return x\n",
    "    \n",
    "\n",
    "gsa = GSA(groups=2)\n",
    "x = torch.randn(32, 1024, 64)\n",
    "y = gsa(x)\n",
    "print(y.shape)"
   ]
  },
  {
   "cell_type": "code",
   "execution_count": null,
   "metadata": {},
   "outputs": [],
   "source": []
  }
 ],
 "metadata": {
  "kernelspec": {
   "display_name": "Adapt_env",
   "language": "python",
   "name": "python3"
  },
  "language_info": {
   "codemirror_mode": {
    "name": "ipython",
    "version": 3
   },
   "file_extension": ".py",
   "mimetype": "text/x-python",
   "name": "python",
   "nbconvert_exporter": "python",
   "pygments_lexer": "ipython3",
   "version": "3.10.12"
  },
  "orig_nbformat": 4
 },
 "nbformat": 4,
 "nbformat_minor": 2
}
